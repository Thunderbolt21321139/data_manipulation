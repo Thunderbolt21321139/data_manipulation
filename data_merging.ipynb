{
 "cells": [
  {
   "cell_type": "code",
   "execution_count": 1,
   "metadata": {},
   "outputs": [],
   "source": [
    "# load data\n",
    "\n",
    "import pandas as pd\n",
    "\n",
    "netflix_df = pd.read_csv(\"netflix_data.csv\")"
   ]
  },
  {
   "cell_type": "code",
   "execution_count": 2,
   "metadata": {},
   "outputs": [
    {
     "data": {
      "text/html": [
       "<div>\n",
       "<style scoped>\n",
       "    .dataframe tbody tr th:only-of-type {\n",
       "        vertical-align: middle;\n",
       "    }\n",
       "\n",
       "    .dataframe tbody tr th {\n",
       "        vertical-align: top;\n",
       "    }\n",
       "\n",
       "    .dataframe thead th {\n",
       "        text-align: right;\n",
       "    }\n",
       "</style>\n",
       "<table border=\"1\" class=\"dataframe\">\n",
       "  <thead>\n",
       "    <tr style=\"text-align: right;\">\n",
       "      <th></th>\n",
       "      <th>show_id</th>\n",
       "      <th>type</th>\n",
       "      <th>title</th>\n",
       "      <th>director</th>\n",
       "      <th>cast</th>\n",
       "      <th>country</th>\n",
       "      <th>date_added</th>\n",
       "      <th>release_year</th>\n",
       "      <th>duration</th>\n",
       "      <th>description</th>\n",
       "      <th>genre</th>\n",
       "    </tr>\n",
       "  </thead>\n",
       "  <tbody>\n",
       "    <tr>\n",
       "      <th>0</th>\n",
       "      <td>s2</td>\n",
       "      <td>Movie</td>\n",
       "      <td>7:19</td>\n",
       "      <td>Jorge Michel Grau</td>\n",
       "      <td>Demián Bichir, Héctor Bonilla, Oscar Serrano, ...</td>\n",
       "      <td>Mexico</td>\n",
       "      <td>December 23, 2016</td>\n",
       "      <td>2016</td>\n",
       "      <td>93</td>\n",
       "      <td>After a devastating earthquake hits Mexico Cit...</td>\n",
       "      <td>Dramas</td>\n",
       "    </tr>\n",
       "    <tr>\n",
       "      <th>1</th>\n",
       "      <td>s3</td>\n",
       "      <td>Movie</td>\n",
       "      <td>23:59</td>\n",
       "      <td>Gilbert Chan</td>\n",
       "      <td>Tedd Chan, Stella Chung, Henley Hii, Lawrence ...</td>\n",
       "      <td>Singapore</td>\n",
       "      <td>December 20, 2018</td>\n",
       "      <td>2011</td>\n",
       "      <td>78</td>\n",
       "      <td>When an army recruit is found dead, his fellow...</td>\n",
       "      <td>Horror Movies</td>\n",
       "    </tr>\n",
       "    <tr>\n",
       "      <th>2</th>\n",
       "      <td>s4</td>\n",
       "      <td>Movie</td>\n",
       "      <td>9</td>\n",
       "      <td>Shane Acker</td>\n",
       "      <td>Elijah Wood, John C. Reilly, Jennifer Connelly...</td>\n",
       "      <td>United States</td>\n",
       "      <td>November 16, 2017</td>\n",
       "      <td>2009</td>\n",
       "      <td>80</td>\n",
       "      <td>In a postapocalyptic world, rag-doll robots hi...</td>\n",
       "      <td>Action</td>\n",
       "    </tr>\n",
       "    <tr>\n",
       "      <th>3</th>\n",
       "      <td>s5</td>\n",
       "      <td>Movie</td>\n",
       "      <td>21</td>\n",
       "      <td>Robert Luketic</td>\n",
       "      <td>Jim Sturgess, Kevin Spacey, Kate Bosworth, Aar...</td>\n",
       "      <td>United States</td>\n",
       "      <td>January 1, 2020</td>\n",
       "      <td>2008</td>\n",
       "      <td>123</td>\n",
       "      <td>A brilliant group of students become card-coun...</td>\n",
       "      <td>Dramas</td>\n",
       "    </tr>\n",
       "    <tr>\n",
       "      <th>4</th>\n",
       "      <td>s6</td>\n",
       "      <td>TV Show</td>\n",
       "      <td>46</td>\n",
       "      <td>Serdar Akar</td>\n",
       "      <td>Erdal Beşikçioğlu, Yasemin Allen, Melis Birkan...</td>\n",
       "      <td>Turkey</td>\n",
       "      <td>July 1, 2017</td>\n",
       "      <td>2016</td>\n",
       "      <td>1</td>\n",
       "      <td>A genetics professor experiments with a treatm...</td>\n",
       "      <td>International TV</td>\n",
       "    </tr>\n",
       "  </tbody>\n",
       "</table>\n",
       "</div>"
      ],
      "text/plain": [
       "  show_id     type  title           director  \\\n",
       "0      s2    Movie   7:19  Jorge Michel Grau   \n",
       "1      s3    Movie  23:59       Gilbert Chan   \n",
       "2      s4    Movie      9        Shane Acker   \n",
       "3      s5    Movie     21     Robert Luketic   \n",
       "4      s6  TV Show     46        Serdar Akar   \n",
       "\n",
       "                                                cast        country  \\\n",
       "0  Demián Bichir, Héctor Bonilla, Oscar Serrano, ...         Mexico   \n",
       "1  Tedd Chan, Stella Chung, Henley Hii, Lawrence ...      Singapore   \n",
       "2  Elijah Wood, John C. Reilly, Jennifer Connelly...  United States   \n",
       "3  Jim Sturgess, Kevin Spacey, Kate Bosworth, Aar...  United States   \n",
       "4  Erdal Beşikçioğlu, Yasemin Allen, Melis Birkan...         Turkey   \n",
       "\n",
       "          date_added  release_year  duration  \\\n",
       "0  December 23, 2016          2016        93   \n",
       "1  December 20, 2018          2011        78   \n",
       "2  November 16, 2017          2009        80   \n",
       "3    January 1, 2020          2008       123   \n",
       "4       July 1, 2017          2016         1   \n",
       "\n",
       "                                         description             genre  \n",
       "0  After a devastating earthquake hits Mexico Cit...            Dramas  \n",
       "1  When an army recruit is found dead, his fellow...     Horror Movies  \n",
       "2  In a postapocalyptic world, rag-doll robots hi...            Action  \n",
       "3  A brilliant group of students become card-coun...            Dramas  \n",
       "4  A genetics professor experiments with a treatm...  International TV  "
      ]
     },
     "execution_count": 2,
     "metadata": {},
     "output_type": "execute_result"
    }
   ],
   "source": [
    "netflix_df.head()"
   ]
  },
  {
   "cell_type": "code",
   "execution_count": 3,
   "metadata": {},
   "outputs": [
    {
     "data": {
      "text/plain": [
       "(4812, 11)"
      ]
     },
     "execution_count": 3,
     "metadata": {},
     "output_type": "execute_result"
    }
   ],
   "source": [
    "netflix_df.shape"
   ]
  },
  {
   "cell_type": "code",
   "execution_count": 6,
   "metadata": {},
   "outputs": [
    {
     "data": {
      "text/plain": [
       "show_id                                                       s29\n",
       "type                                                        Movie\n",
       "title                               #AnneFrank - Parallel Stories\n",
       "director                              Sabina Fedeli, Anna Migotto\n",
       "cast                                  Helen Mirren, Gengher Gatti\n",
       "country                                                     Italy\n",
       "date_added                                           July 1, 2020\n",
       "release_year                                                 2019\n",
       "duration                                                       95\n",
       "description     Through her diary, Anne Frank's story is retol...\n",
       "genre                                               Documentaries\n",
       "Name: 20, dtype: object"
      ]
     },
     "execution_count": 6,
     "metadata": {},
     "output_type": "execute_result"
    }
   ],
   "source": [
    "netflix_df.loc[20,]"
   ]
  },
  {
   "cell_type": "code",
   "execution_count": 16,
   "metadata": {},
   "outputs": [],
   "source": [
    "genres = netflix_df.drop_duplicates(['type','genre'])[['type','genre']]\n",
    "movies = netflix_df.drop_duplicates(['title','genre'])[['title','genre']]"
   ]
  },
  {
   "cell_type": "code",
   "execution_count": 20,
   "metadata": {},
   "outputs": [
    {
     "name": "stdout",
     "output_type": "stream",
     "text": [
      "   title             genre     type\n",
      "0   7:19            Dramas    Movie\n",
      "1  23:59     Horror Movies    Movie\n",
      "2      9            Action    Movie\n",
      "3     21            Dramas    Movie\n",
      "4     46  International TV  TV Show\n",
      "5095\n"
     ]
    }
   ],
   "source": [
    "# inner join\n",
    "\n",
    "inner_join = movies.merge(genres, on='genre', suffixes=('_mov','_gen'))\n",
    "print(inner_join.head())\n",
    "print(len(inner_join))"
   ]
  },
  {
   "cell_type": "code",
   "execution_count": 21,
   "metadata": {},
   "outputs": [
    {
     "name": "stdout",
     "output_type": "stream",
     "text": [
      "   title             genre     type\n",
      "0   7:19            Dramas    Movie\n",
      "1  23:59     Horror Movies    Movie\n",
      "2      9            Action    Movie\n",
      "3     21            Dramas    Movie\n",
      "4     46  International TV  TV Show\n",
      "5095\n"
     ]
    }
   ],
   "source": [
    "# left join\n",
    "\n",
    "left_join = movies.merge(genres, on='genre', how='left')\n",
    "print(left_join.head())\n",
    "print(len(left_join))"
   ]
  },
  {
   "cell_type": "code",
   "execution_count": 22,
   "metadata": {},
   "outputs": [
    {
     "name": "stdout",
     "output_type": "stream",
     "text": [
      "    title   genre   type\n",
      "0    7:19  Dramas  Movie\n",
      "1      21  Dramas  Movie\n",
      "2     187  Dramas  Movie\n",
      "3    1922  Dramas  Movie\n",
      "4  Oct-01  Dramas  Movie\n",
      "5095\n"
     ]
    }
   ],
   "source": [
    "# right join\n",
    "\n",
    "right_join = movies.merge(genres, on='genre', how='right')\n",
    "print(right_join.head())\n",
    "print(len(right_join))"
   ]
  },
  {
   "cell_type": "code",
   "execution_count": 23,
   "metadata": {},
   "outputs": [
    {
     "name": "stdout",
     "output_type": "stream",
     "text": [
      "          title   genre   type\n",
      "0             9  Action  Movie\n",
      "1  ​Goli Soda 2  Action  Movie\n",
      "2      Æon Flux  Action  Movie\n",
      "3   10,000 B.C.  Action  Movie\n",
      "4     14 Blades  Action  Movie\n",
      "5095\n"
     ]
    }
   ],
   "source": [
    "# outer join\n",
    "\n",
    "outer_join = movies.merge(genres, on='genre', how='outer')\n",
    "print(outer_join.head())\n",
    "print(len(outer_join))"
   ]
  },
  {
   "cell_type": "code",
   "execution_count": null,
   "metadata": {},
   "outputs": [],
   "source": [
    "# anti join - find employess that do not have a top customer\n",
    "\n",
    "empl_cust = employees.merge(top_cust, on='srid', how='left', indicator=True)\n",
    "srid_list = empl_cust.loc[empl_cust['_merge'] == 'left_only', 'srid']\n",
    "print(employees[employees['srid'].isin(srid_list)])"
   ]
  },
  {
   "cell_type": "code",
   "execution_count": 24,
   "metadata": {},
   "outputs": [
    {
     "ename": "NameError",
     "evalue": "name 'non_mus_tcks' is not defined",
     "output_type": "error",
     "traceback": [
      "\u001b[1;31m---------------------------------------------------------------------------\u001b[0m",
      "\u001b[1;31mNameError\u001b[0m                                 Traceback (most recent call last)",
      "Cell \u001b[1;32mIn[24], line 3\u001b[0m\n\u001b[0;32m      1\u001b[0m \u001b[38;5;66;03m# semi join - find music tracks that have a top invoice\u001b[39;00m\n\u001b[1;32m----> 3\u001b[0m tracks_invoices \u001b[38;5;241m=\u001b[39m \u001b[43mnon_mus_tcks\u001b[49m\u001b[38;5;241m.\u001b[39mmerge(top_invoices, on\u001b[38;5;241m=\u001b[39m\u001b[38;5;124m'\u001b[39m\u001b[38;5;124mtid\u001b[39m\u001b[38;5;124m'\u001b[39m, how\u001b[38;5;241m=\u001b[39m\u001b[38;5;124m'\u001b[39m\u001b[38;5;124minner\u001b[39m\u001b[38;5;124m'\u001b[39m)\n\u001b[0;32m      4\u001b[0m top_tracks \u001b[38;5;241m=\u001b[39m non_mus_tcks[non_mus_tcks[\u001b[38;5;124m'\u001b[39m\u001b[38;5;124mtid\u001b[39m\u001b[38;5;124m'\u001b[39m]\u001b[38;5;241m.\u001b[39misin(tracks_invoices[\u001b[38;5;124m'\u001b[39m\u001b[38;5;124mtid\u001b[39m\u001b[38;5;124m'\u001b[39m])]\n",
      "\u001b[1;31mNameError\u001b[0m: name 'non_mus_tcks' is not defined"
     ]
    }
   ],
   "source": [
    "# semi join - find music tracks that have a top invoice\n",
    "\n",
    "tracks_invoices = non_mus_tcks.merge(top_invoices, on='tid', how='inner')\n",
    "top_tracks = non_mus_tcks[non_mus_tcks['tid'].isin(tracks_invoices['tid'])]"
   ]
  },
  {
   "cell_type": "code",
   "execution_count": null,
   "metadata": {},
   "outputs": [],
   "source": [
    "# Concatenate the tracks\n",
    "tracks_from_albums = pd.concat([tracks_master,tracks_ride,tracks_st],\n",
    "                               sort=True)\n",
    "print(tracks_from_albums)"
   ]
  },
  {
   "cell_type": "code",
   "execution_count": 29,
   "metadata": {},
   "outputs": [
    {
     "name": "stdout",
     "output_type": "stream",
     "text": [
      "(1343, 11)\n",
      "(696, 11)\n",
      "(1029, 11)\n"
     ]
    }
   ],
   "source": [
    "dramas = netflix_df.loc[netflix_df['genre']=='Dramas',]\n",
    "action = netflix_df.loc[netflix_df['genre']=='Action',]\n",
    "comedies = netflix_df.loc[netflix_df['genre']=='Comedies',]\n",
    "print(dramas.shape)\n",
    "print(action.shape)\n",
    "print(comedies.shape)"
   ]
  },
  {
   "cell_type": "code",
   "execution_count": 30,
   "metadata": {},
   "outputs": [
    {
     "name": "stdout",
     "output_type": "stream",
     "text": [
      "(3068, 11)\n"
     ]
    }
   ],
   "source": [
    "# Concatenate \n",
    "\n",
    "concat = pd.concat([dramas,action,comedies], sort=True)\n",
    "print(concat.shape)"
   ]
  },
  {
   "cell_type": "code",
   "execution_count": 37,
   "metadata": {},
   "outputs": [
    {
     "name": "stdout",
     "output_type": "stream",
     "text": [
      "  country code  year           gdp  date  return\n",
      "0          USA  2010  1.499000e+13  2010   12.78\n",
      "1          USA  2011  1.554000e+13  2011    0.00\n",
      "2          USA  2012  1.620000e+13  2012   13.41\n",
      "3          USA  2012  1.620000e+13  2012   13.41\n",
      "4          USA  2013  1.678000e+13  2013   29.60\n"
     ]
    }
   ],
   "source": [
    "# ordered merge\n",
    "\n",
    "date = [2008,2009,2010,2011,2012,2014,2015,2016,2017,2013]\n",
    "returns = [-38.49,23.45,12.78,0.00,13.41,11.39,-0.73,9.54,19.42,29.6]\n",
    "sp500 = pd.DataFrame({\n",
    "    'date': date,\n",
    "    'return': returns\n",
    "})\n",
    "\n",
    "year = [2010,2011,2012,2012,2013,2014,2015,2016,2017,2018]\n",
    "gdps = [1.499e+13,1.554e+13,1.620e+13,1.620e+13,1.678e+13,1.752e+13,1.822e+13,1.871e+13,1.949e+13,2.049e+13]\n",
    "country = ['USA']*10\n",
    "gdp = pd.DataFrame({\n",
    "    'country code': country,\n",
    "    'year': year,\n",
    "    'gdp': gdps\n",
    "})\n",
    "\n",
    "gdp_sp500 = pd.merge_ordered(gdp, sp500, left_on='year', right_on='date', how='left',  fill_method='ffill')\n",
    "print(gdp_sp500.head())"
   ]
  },
  {
   "cell_type": "code",
   "execution_count": null,
   "metadata": {},
   "outputs": [],
   "source": [
    "# merge asof\n",
    "\n",
    "jpm_wells = pd.merge_asof(jpm, wells, on='date_time', direction='nearest', suffixes=['','_wells'])"
   ]
  },
  {
   "cell_type": "code",
   "execution_count": 38,
   "metadata": {},
   "outputs": [
    {
     "name": "stdout",
     "output_type": "stream",
     "text": [
      "  country code  year           gdp\n",
      "5          USA  2014  1.752000e+13\n",
      "6          USA  2015  1.822000e+13\n",
      "7          USA  2016  1.871000e+13\n",
      "8          USA  2017  1.949000e+13\n",
      "9          USA  2018  2.049000e+13\n"
     ]
    }
   ],
   "source": [
    "# query\n",
    "\n",
    "gdp_query = gdp.query('year >= 2014')\n",
    "print(gdp_query)"
   ]
  },
  {
   "cell_type": "code",
   "execution_count": 41,
   "metadata": {},
   "outputs": [
    {
     "data": {
      "text/html": [
       "<div>\n",
       "<style scoped>\n",
       "    .dataframe tbody tr th:only-of-type {\n",
       "        vertical-align: middle;\n",
       "    }\n",
       "\n",
       "    .dataframe tbody tr th {\n",
       "        vertical-align: top;\n",
       "    }\n",
       "\n",
       "    .dataframe thead th {\n",
       "        text-align: right;\n",
       "    }\n",
       "</style>\n",
       "<table border=\"1\" class=\"dataframe\">\n",
       "  <thead>\n",
       "    <tr style=\"text-align: right;\">\n",
       "      <th></th>\n",
       "      <th>country</th>\n",
       "      <th>year</th>\n",
       "      <th>inflation</th>\n",
       "    </tr>\n",
       "  </thead>\n",
       "  <tbody>\n",
       "    <tr>\n",
       "      <th>0</th>\n",
       "      <td>Brazil</td>\n",
       "      <td>2017</td>\n",
       "      <td>3.45</td>\n",
       "    </tr>\n",
       "    <tr>\n",
       "      <th>1</th>\n",
       "      <td>Canada</td>\n",
       "      <td>2017</td>\n",
       "      <td>1.60</td>\n",
       "    </tr>\n",
       "    <tr>\n",
       "      <th>2</th>\n",
       "      <td>France</td>\n",
       "      <td>2017</td>\n",
       "      <td>1.03</td>\n",
       "    </tr>\n",
       "    <tr>\n",
       "      <th>3</th>\n",
       "      <td>India</td>\n",
       "      <td>2017</td>\n",
       "      <td>2.49</td>\n",
       "    </tr>\n",
       "    <tr>\n",
       "      <th>4</th>\n",
       "      <td>Brazil</td>\n",
       "      <td>2018</td>\n",
       "      <td>3.66</td>\n",
       "    </tr>\n",
       "    <tr>\n",
       "      <th>5</th>\n",
       "      <td>Canada</td>\n",
       "      <td>2018</td>\n",
       "      <td>2.27</td>\n",
       "    </tr>\n",
       "    <tr>\n",
       "      <th>6</th>\n",
       "      <td>France</td>\n",
       "      <td>2018</td>\n",
       "      <td>1.85</td>\n",
       "    </tr>\n",
       "    <tr>\n",
       "      <th>7</th>\n",
       "      <td>India</td>\n",
       "      <td>2018</td>\n",
       "      <td>4.86</td>\n",
       "    </tr>\n",
       "    <tr>\n",
       "      <th>8</th>\n",
       "      <td>Brazil</td>\n",
       "      <td>2019</td>\n",
       "      <td>3.73</td>\n",
       "    </tr>\n",
       "    <tr>\n",
       "      <th>9</th>\n",
       "      <td>Canada</td>\n",
       "      <td>2019</td>\n",
       "      <td>1.95</td>\n",
       "    </tr>\n",
       "    <tr>\n",
       "      <th>10</th>\n",
       "      <td>France</td>\n",
       "      <td>2019</td>\n",
       "      <td>1.11</td>\n",
       "    </tr>\n",
       "    <tr>\n",
       "      <th>11</th>\n",
       "      <td>India</td>\n",
       "      <td>2019</td>\n",
       "      <td>7.66</td>\n",
       "    </tr>\n",
       "  </tbody>\n",
       "</table>\n",
       "</div>"
      ],
      "text/plain": [
       "   country  year  inflation\n",
       "0   Brazil  2017       3.45\n",
       "1   Canada  2017       1.60\n",
       "2   France  2017       1.03\n",
       "3    India  2017       2.49\n",
       "4   Brazil  2018       3.66\n",
       "5   Canada  2018       2.27\n",
       "6   France  2018       1.85\n",
       "7    India  2018       4.86\n",
       "8   Brazil  2019       3.73\n",
       "9   Canada  2019       1.95\n",
       "10  France  2019       1.11\n",
       "11   India  2019       7.66"
      ]
     },
     "execution_count": 41,
     "metadata": {},
     "output_type": "execute_result"
    }
   ],
   "source": [
    "# melt\n",
    "\n",
    "country = ['Brazil','Canada','France','India']\n",
    "inf_2017 = [3.45,1.60,1.03,2.49]\n",
    "inf_2018 = [3.66,2.27,1.85,4.86]\n",
    "inf_2019 = [3.73,1.95,1.11,7.66]\n",
    "\n",
    "inflation = pd.DataFrame({\n",
    "    'country': country,\n",
    "    '2017': inf_2017,\n",
    "    '2018': inf_2018,\n",
    "    '2019': inf_2019\n",
    "})\n",
    "\n",
    "inflation.melt(id_vars=['country'], var_name='year', value_name='inflation')"
   ]
  },
  {
   "cell_type": "code",
   "execution_count": null,
   "metadata": {},
   "outputs": [],
   "source": []
  }
 ],
 "metadata": {
  "kernelspec": {
   "display_name": "data_science",
   "language": "python",
   "name": "python3"
  },
  "language_info": {
   "codemirror_mode": {
    "name": "ipython",
    "version": 3
   },
   "file_extension": ".py",
   "mimetype": "text/x-python",
   "name": "python",
   "nbconvert_exporter": "python",
   "pygments_lexer": "ipython3",
   "version": "3.12.5"
  }
 },
 "nbformat": 4,
 "nbformat_minor": 2
}
