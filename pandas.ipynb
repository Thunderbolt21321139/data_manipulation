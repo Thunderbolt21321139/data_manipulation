{
 "cells": [
  {
   "cell_type": "code",
   "execution_count": 1,
   "metadata": {},
   "outputs": [],
   "source": [
    "import matplotlib.pyplot as plt\n",
    "import seaborn as sns\n",
    "\n",
    "df = sns.load_dataset('mpg')"
   ]
  },
  {
   "cell_type": "code",
   "execution_count": 3,
   "metadata": {},
   "outputs": [
    {
     "name": "stdout",
     "output_type": "stream",
     "text": [
      "    mpg  cylinders  displacement  horsepower  weight  acceleration  \\\n",
      "0  18.0          8         307.0       130.0    3504          12.0   \n",
      "1  15.0          8         350.0       165.0    3693          11.5   \n",
      "2  18.0          8         318.0       150.0    3436          11.0   \n",
      "3  16.0          8         304.0       150.0    3433          12.0   \n",
      "4  17.0          8         302.0       140.0    3449          10.5   \n",
      "\n",
      "   model_year origin                       name  \n",
      "0          70    usa  chevrolet chevelle malibu  \n",
      "1          70    usa          buick skylark 320  \n",
      "2          70    usa         plymouth satellite  \n",
      "3          70    usa              amc rebel sst  \n",
      "4          70    usa                ford torino  \n"
     ]
    }
   ],
   "source": [
    "\n",
    "print(df.head())"
   ]
  },
  {
   "cell_type": "code",
   "execution_count": 4,
   "metadata": {},
   "outputs": [
    {
     "name": "stdout",
     "output_type": "stream",
     "text": [
      "<class 'pandas.core.frame.DataFrame'>\n",
      "RangeIndex: 398 entries, 0 to 397\n",
      "Data columns (total 9 columns):\n",
      " #   Column        Non-Null Count  Dtype  \n",
      "---  ------        --------------  -----  \n",
      " 0   mpg           398 non-null    float64\n",
      " 1   cylinders     398 non-null    int64  \n",
      " 2   displacement  398 non-null    float64\n",
      " 3   horsepower    392 non-null    float64\n",
      " 4   weight        398 non-null    int64  \n",
      " 5   acceleration  398 non-null    float64\n",
      " 6   model_year    398 non-null    int64  \n",
      " 7   origin        398 non-null    object \n",
      " 8   name          398 non-null    object \n",
      "dtypes: float64(4), int64(3), object(2)\n",
      "memory usage: 28.1+ KB\n",
      "None\n"
     ]
    }
   ],
   "source": [
    "print(df.info())"
   ]
  },
  {
   "cell_type": "code",
   "execution_count": 5,
   "metadata": {},
   "outputs": [
    {
     "name": "stdout",
     "output_type": "stream",
     "text": [
      "(398, 9)\n"
     ]
    }
   ],
   "source": [
    "print(df.shape)"
   ]
  },
  {
   "cell_type": "code",
   "execution_count": 6,
   "metadata": {},
   "outputs": [
    {
     "name": "stdout",
     "output_type": "stream",
     "text": [
      "              mpg   cylinders  displacement  horsepower       weight  \\\n",
      "count  398.000000  398.000000    398.000000  392.000000   398.000000   \n",
      "mean    23.514573    5.454774    193.425879  104.469388  2970.424623   \n",
      "std      7.815984    1.701004    104.269838   38.491160   846.841774   \n",
      "min      9.000000    3.000000     68.000000   46.000000  1613.000000   \n",
      "25%     17.500000    4.000000    104.250000   75.000000  2223.750000   \n",
      "50%     23.000000    4.000000    148.500000   93.500000  2803.500000   \n",
      "75%     29.000000    8.000000    262.000000  126.000000  3608.000000   \n",
      "max     46.600000    8.000000    455.000000  230.000000  5140.000000   \n",
      "\n",
      "       acceleration  model_year  \n",
      "count    398.000000  398.000000  \n",
      "mean      15.568090   76.010050  \n",
      "std        2.757689    3.697627  \n",
      "min        8.000000   70.000000  \n",
      "25%       13.825000   73.000000  \n",
      "50%       15.500000   76.000000  \n",
      "75%       17.175000   79.000000  \n",
      "max       24.800000   82.000000  \n"
     ]
    }
   ],
   "source": [
    "print(df.describe())"
   ]
  },
  {
   "cell_type": "code",
   "execution_count": 7,
   "metadata": {},
   "outputs": [
    {
     "name": "stdout",
     "output_type": "stream",
     "text": [
      "Index(['mpg', 'cylinders', 'displacement', 'horsepower', 'weight',\n",
      "       'acceleration', 'model_year', 'origin', 'name'],\n",
      "      dtype='object')\n"
     ]
    }
   ],
   "source": [
    "print(df.columns)"
   ]
  },
  {
   "cell_type": "code",
   "execution_count": 8,
   "metadata": {},
   "outputs": [
    {
     "name": "stdout",
     "output_type": "stream",
     "text": [
      "RangeIndex(start=0, stop=398, step=1)\n"
     ]
    }
   ],
   "source": [
    "print(df.index)"
   ]
  },
  {
   "cell_type": "code",
   "execution_count": 9,
   "metadata": {},
   "outputs": [
    {
     "name": "stdout",
     "output_type": "stream",
     "text": [
      "[[18.0 8 307.0 ... 70 'usa' 'chevrolet chevelle malibu']\n",
      " [15.0 8 350.0 ... 70 'usa' 'buick skylark 320']\n",
      " [18.0 8 318.0 ... 70 'usa' 'plymouth satellite']\n",
      " ...\n",
      " [32.0 4 135.0 ... 82 'usa' 'dodge rampage']\n",
      " [28.0 4 120.0 ... 82 'usa' 'ford ranger']\n",
      " [31.0 4 119.0 ... 82 'usa' 'chevy s-10']]\n"
     ]
    }
   ],
   "source": [
    "print(df.values)"
   ]
  },
  {
   "cell_type": "code",
   "execution_count": 14,
   "metadata": {},
   "outputs": [
    {
     "name": "stdout",
     "output_type": "stream",
     "text": [
      "     mpg  cylinders  displacement  horsepower  weight  acceleration  \\\n",
      "28   9.0          8         304.0       193.0    4732          18.5   \n",
      "25  10.0          8         360.0       215.0    4615          14.0   \n",
      "26  10.0          8         307.0       200.0    4376          15.0   \n",
      "27  11.0          8         318.0       210.0    4382          13.5   \n",
      "67  11.0          8         429.0       208.0    4633          11.0   \n",
      "\n",
      "    model_year origin             name  \n",
      "28          70    usa         hi 1200d  \n",
      "25          70    usa        ford f250  \n",
      "26          70    usa        chevy c20  \n",
      "27          70    usa       dodge d200  \n",
      "67          72    usa  mercury marquis  \n"
     ]
    }
   ],
   "source": [
    "# sorting\n",
    "\n",
    "df_mpg = df.sort_values(['mpg','horsepower'], ascending=[True,False])\n",
    "print(df_mpg.head())"
   ]
  },
  {
   "cell_type": "code",
   "execution_count": 15,
   "metadata": {},
   "outputs": [
    {
     "name": "stdout",
     "output_type": "stream",
     "text": [
      "                        name   mpg\n",
      "0  chevrolet chevelle malibu  18.0\n",
      "1          buick skylark 320  15.0\n",
      "2         plymouth satellite  18.0\n",
      "3              amc rebel sst  16.0\n",
      "4                ford torino  17.0\n"
     ]
    }
   ],
   "source": [
    "# subset columns\n",
    "\n",
    "df_subset = df[[\"name\",\"mpg\"]]\n",
    "print(df_subset.head())"
   ]
  },
  {
   "cell_type": "code",
   "execution_count": 16,
   "metadata": {},
   "outputs": [
    {
     "name": "stdout",
     "output_type": "stream",
     "text": [
      "    mpg  cylinders  displacement  horsepower  weight  acceleration  \\\n",
      "1  15.0          8         350.0       165.0    3693          11.5   \n",
      "3  16.0          8         304.0       150.0    3433          12.0   \n",
      "4  17.0          8         302.0       140.0    3449          10.5   \n",
      "5  15.0          8         429.0       198.0    4341          10.0   \n",
      "9  15.0          8         390.0       190.0    3850           8.5   \n",
      "\n",
      "   model_year origin                name  \n",
      "1          70    usa   buick skylark 320  \n",
      "3          70    usa       amc rebel sst  \n",
      "4          70    usa         ford torino  \n",
      "5          70    usa    ford galaxie 500  \n",
      "9          70    usa  amc ambassador dpl  \n"
     ]
    }
   ],
   "source": [
    "# subset rows\n",
    "\n",
    "df_srows = df[(df['mpg'] < 18) & (df[\"horsepower\"] < 210)]\n",
    "print(df_srows.head())"
   ]
  },
  {
   "cell_type": "code",
   "execution_count": 17,
   "metadata": {},
   "outputs": [
    {
     "name": "stdout",
     "output_type": "stream",
     "text": [
      "    mpg  cylinders  displacement  horsepower  weight  acceleration  \\\n",
      "1  15.0          8         350.0       165.0    3693          11.5   \n",
      "3  16.0          8         304.0       150.0    3433          12.0   \n",
      "4  17.0          8         302.0       140.0    3449          10.5   \n",
      "\n",
      "   model_year origin               name  \n",
      "1          70    usa  buick skylark 320  \n",
      "3          70    usa      amc rebel sst  \n",
      "4          70    usa        ford torino  \n"
     ]
    }
   ],
   "source": [
    "# subset categorical rows\n",
    "\n",
    "cars = ['buick skylark 320','amc rebel sst','ford torino']\n",
    "df_srows = df[df['name'].isin(cars)]\n",
    "print(df_srows.head())"
   ]
  },
  {
   "cell_type": "code",
   "execution_count": 19,
   "metadata": {},
   "outputs": [
    {
     "name": "stdout",
     "output_type": "stream",
     "text": [
      "    mpg  cylinders  displacement  horsepower  weight  acceleration  \\\n",
      "0  18.0          8         307.0       130.0    3504          12.0   \n",
      "1  15.0          8         350.0       165.0    3693          11.5   \n",
      "2  18.0          8         318.0       150.0    3436          11.0   \n",
      "3  16.0          8         304.0       150.0    3433          12.0   \n",
      "4  17.0          8         302.0       140.0    3449          10.5   \n",
      "\n",
      "   model_year origin                       name  power_to_weight  \n",
      "0          70    usa  chevrolet chevelle malibu         0.037100  \n",
      "1          70    usa          buick skylark 320         0.044679  \n",
      "2          70    usa         plymouth satellite         0.043655  \n",
      "3          70    usa              amc rebel sst         0.043694  \n",
      "4          70    usa                ford torino         0.040591  \n"
     ]
    }
   ],
   "source": [
    "# adding columns\n",
    "\n",
    "df_copy = df.copy()\n",
    "df_copy['power_to_weight'] = df_copy['horsepower'] / df_copy['weight']\n",
    "print(df_copy.head())"
   ]
  },
  {
   "cell_type": "code",
   "execution_count": null,
   "metadata": {},
   "outputs": [],
   "source": []
  }
 ],
 "metadata": {
  "kernelspec": {
   "display_name": "data_science",
   "language": "python",
   "name": "python3"
  },
  "language_info": {
   "codemirror_mode": {
    "name": "ipython",
    "version": 3
   },
   "file_extension": ".py",
   "mimetype": "text/x-python",
   "name": "python",
   "nbconvert_exporter": "python",
   "pygments_lexer": "ipython3",
   "version": "3.12.5"
  }
 },
 "nbformat": 4,
 "nbformat_minor": 2
}
