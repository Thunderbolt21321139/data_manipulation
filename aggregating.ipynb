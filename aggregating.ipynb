{
 "cells": [
  {
   "cell_type": "code",
   "execution_count": 6,
   "metadata": {},
   "outputs": [],
   "source": [
    "import matplotlib.pyplot as plt\n",
    "import seaborn as sns\n",
    "\n",
    "df = sns.load_dataset('mpg')\n",
    "penguins = sns.load_dataset('penguins')"
   ]
  },
  {
   "cell_type": "code",
   "execution_count": 2,
   "metadata": {},
   "outputs": [
    {
     "name": "stdout",
     "output_type": "stream",
     "text": [
      "15.568090452261307\n",
      "15.5\n"
     ]
    }
   ],
   "source": [
    "# aggregate a column\n",
    "\n",
    "print(df['acceleration'].mean())\n",
    "print(df[\"acceleration\"].median())"
   ]
  },
  {
   "cell_type": "code",
   "execution_count": 4,
   "metadata": {},
   "outputs": [
    {
     "name": "stdout",
     "output_type": "stream",
     "text": [
      "        acceleration   mpg  horsepower\n",
      "iqr             3.35  11.5        51.0\n",
      "median         15.50  23.0        93.5\n"
     ]
    }
   ],
   "source": [
    "# custom aggregate function\n",
    "\n",
    "import numpy as np\n",
    "\n",
    "def iqr(column):\n",
    "    return column.quantile(0.75) - column.quantile(0.25)\n",
    "\n",
    "print(df[['acceleration','mpg','horsepower']].agg([iqr, 'median']))"
   ]
  },
  {
   "cell_type": "code",
   "execution_count": 5,
   "metadata": {},
   "outputs": [
    {
     "name": "stdout",
     "output_type": "stream",
     "text": [
      "                          name  weight  cum_weight  max_weight\n",
      "0    chevrolet chevelle malibu    3504        3504        3504\n",
      "1            buick skylark 320    3693        7197        3693\n",
      "2           plymouth satellite    3436       10633        3693\n",
      "3                amc rebel sst    3433       14066        3693\n",
      "4                  ford torino    3449       17515        3693\n",
      "..                         ...     ...         ...         ...\n",
      "393            ford mustang gl    2790     1172459        5140\n",
      "394                  vw pickup    2130     1174589        5140\n",
      "395              dodge rampage    2295     1176884        5140\n",
      "396                ford ranger    2625     1179509        5140\n",
      "397                 chevy s-10    2720     1182229        5140\n",
      "\n",
      "[398 rows x 4 columns]\n"
     ]
    }
   ],
   "source": [
    "# cumulative statistics\n",
    "\n",
    "df_cum = df.copy()\n",
    "df_cum['cum_weight'] = df_cum['weight'].cumsum()\n",
    "df_cum['max_weight'] = df_cum['weight'].cummax()\n",
    "print(df_cum[['name', 'weight', 'cum_weight', 'max_weight']])"
   ]
  },
  {
   "cell_type": "code",
   "execution_count": 7,
   "metadata": {},
   "outputs": [
    {
     "name": "stdout",
     "output_type": "stream",
     "text": [
      "       species     island  bill_length_mm  bill_depth_mm  flipper_length_mm  \\\n",
      "0       Adelie  Torgersen            39.1           18.7              181.0   \n",
      "20      Adelie     Biscoe            37.8           18.3              174.0   \n",
      "30      Adelie      Dream            39.5           16.7              178.0   \n",
      "152  Chinstrap      Dream            46.5           17.9              192.0   \n",
      "220     Gentoo     Biscoe            46.1           13.2              211.0   \n",
      "\n",
      "     body_mass_g     sex  \n",
      "0         3750.0    Male  \n",
      "20        3400.0  Female  \n",
      "30        3250.0  Female  \n",
      "152       3500.0  Female  \n",
      "220       4500.0  Female  \n"
     ]
    }
   ],
   "source": [
    "# drop duplicates\n",
    "\n",
    "peng = penguins.drop_duplicates(['species','island'])\n",
    "print(peng)"
   ]
  },
  {
   "cell_type": "code",
   "execution_count": 8,
   "metadata": {},
   "outputs": [
    {
     "name": "stdout",
     "output_type": "stream",
     "text": [
      "species\n",
      "Adelie       152\n",
      "Gentoo       124\n",
      "Chinstrap     68\n",
      "Name: count, dtype: int64\n"
     ]
    }
   ],
   "source": [
    "# counting\n",
    "\n",
    "count = penguins['species'].value_counts()\n",
    "print(count)"
   ]
  },
  {
   "cell_type": "code",
   "execution_count": 9,
   "metadata": {},
   "outputs": [
    {
     "name": "stdout",
     "output_type": "stream",
     "text": [
      "species\n",
      "Adelie       558800.0\n",
      "Chinstrap    253850.0\n",
      "Gentoo       624350.0\n",
      "Name: body_mass_g, dtype: float64\n"
     ]
    }
   ],
   "source": [
    "# group by a column\n",
    "\n",
    "group = penguins.groupby('species')['body_mass_g'].sum()\n",
    "print(group)"
   ]
  },
  {
   "cell_type": "code",
   "execution_count": 11,
   "metadata": {},
   "outputs": [
    {
     "name": "stdout",
     "output_type": "stream",
     "text": [
      "          body_mass_g                              flipper_length_mm         \\\n",
      "                  min     max         mean  median               min    max   \n",
      "species                                                                       \n",
      "Adelie         2850.0  4775.0  3700.662252  3700.0             172.0  210.0   \n",
      "Chinstrap      2700.0  4800.0  3733.088235  3700.0             178.0  212.0   \n",
      "Gentoo         3950.0  6300.0  5076.016260  5000.0             203.0  231.0   \n",
      "\n",
      "                              \n",
      "                 mean median  \n",
      "species                       \n",
      "Adelie     189.953642  190.0  \n",
      "Chinstrap  195.823529  196.0  \n",
      "Gentoo     217.186992  216.0  \n"
     ]
    }
   ],
   "source": [
    "# multiple statistics for each column\n",
    "\n",
    "group = penguins.groupby('species')[['body_mass_g','flipper_length_mm']].agg(['min','max','mean','median'])\n",
    "print(group)"
   ]
  },
  {
   "cell_type": "code",
   "execution_count": null,
   "metadata": {},
   "outputs": [],
   "source": []
  }
 ],
 "metadata": {
  "kernelspec": {
   "display_name": "data_science",
   "language": "python",
   "name": "python3"
  },
  "language_info": {
   "codemirror_mode": {
    "name": "ipython",
    "version": 3
   },
   "file_extension": ".py",
   "mimetype": "text/x-python",
   "name": "python",
   "nbconvert_exporter": "python",
   "pygments_lexer": "ipython3",
   "version": "3.12.5"
  }
 },
 "nbformat": 4,
 "nbformat_minor": 2
}
